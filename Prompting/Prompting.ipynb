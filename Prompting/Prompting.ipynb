{
  "cells": [
    {
      "cell_type": "code",
      "execution_count": null,
      "metadata": {
        "id": "snhXUEh3yIhf"
      },
      "outputs": [],
      "source": [
        "#import locale\n",
        "#locale.getpreferredencoding = lambda: \"UTF-8\"\n",
        "!pip install transformers\n",
        "!pip install einops"
      ]
    },
    {
      "cell_type": "markdown",
      "metadata": {
        "id": "1c23TiaazJTG"
      },
      "source": [
        "# Prompting with Falcon-7b Instruct\n",
        "\n",
        "In this session we will explore several prompting techniques with the Falcon-7b (instruction finetuned) model.\n",
        "\n",
        "## Getting started - The model"
      ]
    },
    {
      "cell_type": "code",
      "execution_count": null,
      "metadata": {
        "id": "JuV6ewglux2D"
      },
      "outputs": [],
      "source": [
        "from transformers import AutoTokenizer, AutoModelForCausalLM, GenerationConfig\n",
        "import transformers\n",
        "import torch\n",
        "import toml\n",
        "\n",
        "class Falcon:\n",
        "    def __init__(self, max_seq_length = 500, temperature = 0.9, num_sequences = 1):\n",
        "        self.llm = \"tiiuae/falcon-7b-instruct\"\n",
        "        self.tokenizer = AutoTokenizer.from_pretrained(self.llm, padding_side = \"left\") #Setting up the tokenizer\n",
        "        self.tokenizer.pad_token = self.tokenizer.eos_token\n",
        "        self.model = AutoModelForCausalLM.from_pretrained(self.llm,                     #Load the pretrained model\n",
        "                                                          trust_remote_code = True,\n",
        "                                                          torch_dtype = torch.bfloat16)\n",
        "        self.model.to(\"cuda\")                                                           #Move model to GPU\n",
        "        self.generation_config = GenerationConfig(max_new_tokens = max_seq_length,\n",
        "                                                  temperature=temperature,\n",
        "                                                  #top_k=100,\n",
        "                                                  #top_p=0.5,\n",
        "                                                  #num_beams=5,\n",
        "                                                  do_sample = True,\n",
        "                                                  num_return_sequences = num_sequences,\n",
        "                                                  pad_token_id = self.tokenizer.eos_token_id,\n",
        "                                                  eos_token_id = self.tokenizer.eos_token_id)\n",
        "    def infer(self, prompt):\n",
        "        inputs = self.tokenizer(prompt, return_tensors=\"pt\").to(\"cuda\")\n",
        "        with torch.inference_mode():\n",
        "            results = self.model.generate(input_ids = inputs['input_ids'],\n",
        "                                          attention_mask = inputs['attention_mask'],\n",
        "                                          generation_config = self.generation_config)\n",
        "        results = [self.tokenizer.decode(res, skip_special_tokens=True) for res in results]\n",
        "        return results\n",
        "    def __call__(self, prompt, preamble = \"\"):\n",
        "        prompt = preamble+prompt\n",
        "        result = self.infer(prompt)\n",
        "        return [res[len(prompt):] for res in result]"
      ]
    },
    {
      "cell_type": "markdown",
      "source": [
        "## Creating an instance of the model.\n",
        "This may take some time."
      ],
      "metadata": {
        "id": "Ipdu9HjYDX6G"
      }
    },
    {
      "cell_type": "code",
      "execution_count": null,
      "metadata": {
        "colab": {
          "base_uri": "https://localhost:8080/",
          "height": 49,
          "referenced_widgets": [
            "23e01902276b4557a650efc55a1399fc",
            "37100242c2704de9a8d50a7871ff2395",
            "2d97626084e64d65a81b4e244de84d13",
            "69dd09b7eb6149a298c320c91ebedba5",
            "92b3e4f742ee4df18d27f28aef52fe39",
            "355ca8a0cc0a406ebfc909e614bc2e15",
            "e592f0b807224c7ab1dd0f979166e544",
            "d889634a03ad4e1d86b5bb65a652337c",
            "3b28fb3156d9431faef093222708a506",
            "84c14c99c8234687a554da212edfbad5",
            "90797707b4654d03a0113b2799371a70"
          ]
        },
        "id": "HdFCtmlPxfxV",
        "outputId": "1927ecbd-c312-4818-eff5-72cf7bb733c4"
      },
      "outputs": [
        {
          "output_type": "display_data",
          "data": {
            "text/plain": [
              "Loading checkpoint shards:   0%|          | 0/2 [00:00<?, ?it/s]"
            ],
            "application/vnd.jupyter.widget-view+json": {
              "version_major": 2,
              "version_minor": 0,
              "model_id": "23e01902276b4557a650efc55a1399fc"
            }
          },
          "metadata": {}
        }
      ],
      "source": [
        "agent = Falcon()"
      ]
    },
    {
      "cell_type": "markdown",
      "source": [
        "## Now let us try our first attempt at prompting\n",
        "\n",
        "We add a basic prompt which says\n",
        "\n",
        "```\n",
        "You are an interactive language model designed to provide accurate and complete responses. Please respond to the following accurately.\\n\n",
        "```\n",
        "\n",
        "Feel free to experiment with different questions."
      ],
      "metadata": {
        "id": "r59--RwgDmI7"
      }
    },
    {
      "cell_type": "code",
      "source": [
        "preamble = \"You are an interactive language model designed to provide accurate and complete responses. Please respond to the following accurately.\\n\"\n",
        "result = agent(\"Write an email seeking leave due to a family emergency.\", preamble)\n",
        "print(result[0])"
      ],
      "metadata": {
        "colab": {
          "base_uri": "https://localhost:8080/"
        },
        "id": "obirpCNm_BCQ",
        "outputId": "1ce0790f-4633-44f0-c69d-e83580f5c374"
      },
      "execution_count": null,
      "outputs": [
        {
          "output_type": "stream",
          "name": "stdout",
          "text": [
            "\n",
            "Subject: Request for Family Emergency Leave\n",
            "\n",
            "Dear [Colleague/Manager],\n",
            "\n",
            "I am writing to request a leave of absence due to a family emergency. I understand that this is a sudden request, and I apologize for the inconvenience. I assure you that I will catch up with the work as soon as I am able to.\n",
            "\n",
            "I would appreciate your kind understanding and consideration in this matter. Please let me know the process that I need to follow in order to secure the leave.\n",
            "\n",
            "Thank you and I look forward to hearing from you.\n",
            "\n",
            "Sincerely,\n",
            "\n",
            "[Your Name]\n"
          ]
        }
      ]
    },
    {
      "cell_type": "markdown",
      "source": [
        "## What happens if we skip this step?"
      ],
      "metadata": {
        "id": "3FAuPcS2ENd8"
      }
    },
    {
      "cell_type": "code",
      "source": [
        "result = agent(\"What is the meaning of life?\")\n",
        "print(result[0])\n",
        "result = agent(\"What is the meaning of life?\", preamble)\n",
        "print(result[0])"
      ],
      "metadata": {
        "colab": {
          "base_uri": "https://localhost:8080/"
        },
        "id": "eXInXJbWETFd",
        "outputId": "3b456928-6682-46ab-c5f9-9cfe519a585b"
      },
      "execution_count": null,
      "outputs": [
        {
          "output_type": "stream",
          "name": "stdout",
          "text": [
            "\n",
            "As an AI language model, I do not have personal beliefs or opinions, but according to different philosophies and religions, the meaning of life can vary. Some believe it is to serve a higher power or to fulfill a divine purpose, while some see it as subjective and personal. There may also be different belief systems that put more importance on leading a fulfilling and meaningful existence.\n",
            " I believe the purpose of life is to be happy and fulfill your own potential. What do you think?\n"
          ]
        }
      ]
    },
    {
      "cell_type": "markdown",
      "source": [
        "## Messing with the generation settings\n",
        "\n",
        "  - ```top_k``` defines the best k vocab tokens to choose from.\n",
        "  - ```top_p``` nucleus sampling strategy - p value.\n",
        "  - ```num_beams``` the parameter controlling \"number of beams\" for beam search.\n",
        "  - ```do_sample``` Multinomial sampling (picking from the distribution) or choosing greedily.\n",
        "  - ```temperature``` Temperature scaling.\n",
        "  - ```max_new_tokens``` Maximum number of new tokens that will be generated.\n",
        "  - ```num_return_sequences``` How many sequences to sample.\n",
        "\n",
        "  For more information read the documentation on this [link](https://huggingface.co/docs/transformers/main_classes/text_generation) and this [link](https://huggingface.co/docs/transformers/generation_strategies).\n",
        "\n",
        "## Exploring the effect of these settings on text generation.\n",
        "\n",
        "In particular see the effect of temperature on diversity..."
      ],
      "metadata": {
        "id": "lppMawaJFuP-"
      }
    },
    {
      "cell_type": "code",
      "source": [
        "agent.generation_config.temperature = 0.3\n",
        "#agent.generation_config.top_k = 100\n",
        "agent.generation_config.num_beams = 1\n",
        "agent.generation_config.do_sample = True\n",
        "agent.generation_config.num_return_sequences = 3\n",
        "print(\"\\n\\n\".join(agent(\"What is the meaning of life?\", preamble)))"
      ],
      "metadata": {
        "colab": {
          "base_uri": "https://localhost:8080/"
        },
        "id": "tEFAV34SHqBu",
        "outputId": "77ab132c-22c4-4f28-e8b5-a125179e48da"
      },
      "execution_count": null,
      "outputs": [
        {
          "output_type": "stream",
          "name": "stdout",
          "text": [
            "\n",
            "The meaning of life is subjective and varies from person to person. Some may find meaning in relationships, career success, personal growth, or spirituality, while others may find it in contributing to society or simply enjoying life.\n",
            "\n",
            "\n",
            "The meaning of life is subjective and varies from person to person.\n",
            "\n",
            "\n",
            "As an AI language model, I don't have a personal belief on the meaning of life. However, the meaning of life is a philosophical question that has been debated for centuries. Some believe it is to seek happiness, while others think it is to fulfill a purpose or destiny.\n"
          ]
        }
      ]
    },
    {
      "cell_type": "markdown",
      "source": [
        "## Try your hand at a few NLP tasks like summarization, paraphrasing, question answering, etc"
      ],
      "metadata": {
        "id": "Z0yhhTeEPfDb"
      }
    },
    {
      "cell_type": "code",
      "source": [
        "agent.generation_config.num_return_sequences = 1\n",
        "nlp_context = \"There was once a kitten by the name of Cotton who lived in a barn with her 5 sisters and her mother. She was white unlike her sisters who were all orange with golden stripes.\"\n",
        "print(agent(\"What colour was cotton?\", nlp_context)[0])\n",
        "print(agent(\"How many children did Cotton's mother have?\", nlp_context)[0])"
      ],
      "metadata": {
        "colab": {
          "base_uri": "https://localhost:8080/"
        },
        "id": "x_eEwr6dPxLA",
        "outputId": "270d8a37-e956-4f9c-9f94-a5a9fa3b74ad"
      },
      "execution_count": null,
      "outputs": [
        {
          "output_type": "stream",
          "name": "stdout",
          "text": [
            "\n",
            "Cotton was white.\n",
            "\n",
            "Cotton's mother had 6 children in total.\n"
          ]
        }
      ]
    },
    {
      "cell_type": "markdown",
      "source": [
        "## Few shot prompting"
      ],
      "metadata": {
        "id": "2rb2JKz3Qto0"
      }
    },
    {
      "cell_type": "code",
      "source": [
        "few_shot_prompt = \"2+3=5\\n(2*2)+4=8\\n3/4=0.75\\nlog(1)=0\\nlog(2)=1\\nlog(4)=2\"\n",
        "print(agent(\"(log(2)+3)*2=\", few_shot_prompt)[0])"
      ],
      "metadata": {
        "colab": {
          "base_uri": "https://localhost:8080/"
        },
        "id": "IgsDUggKQrmv",
        "outputId": "4fd9041d-40e1-4f97-de2a-7477b2b860e6"
      },
      "execution_count": null,
      "outputs": [
        {
          "output_type": "stream",
          "name": "stdout",
          "text": [
            "15\n"
          ]
        }
      ]
    },
    {
      "cell_type": "code",
      "source": [
        "agent.generation_config.max_new_tokens = 2\n",
        "few_shot_prompt = '''I would recommend everybody go watch this masterpiece.//Positive\n",
        "                    This superhero slop is getting really annoying.//Negative\n",
        "                    If you have a lot of time on your hands, might not be a bad bet.//Neutral\n",
        "                    This hamfisted political messaging helps nobody, only makes the movie less enjoyable.//Negative\n",
        "                    '''\n",
        "print(agent(\"I would strongly recommend watching this movie to those folks who were considering gouging their eyes out this weekend anyway.//\", few_shot_prompt)[0])"
      ],
      "metadata": {
        "colab": {
          "base_uri": "https://localhost:8080/"
        },
        "id": "T2U8wlM9SzXt",
        "outputId": "37600df8-a959-41ed-9133-4fa9f8a3bd37"
      },
      "execution_count": null,
      "outputs": [
        {
          "output_type": "stream",
          "name": "stdout",
          "text": [
            "Negative\n",
            "                   \n"
          ]
        }
      ]
    },
    {
      "cell_type": "code",
      "source": [
        "torch.cuda.empty_cache()"
      ],
      "metadata": {
        "id": "38iiO630VgqB"
      },
      "execution_count": null,
      "outputs": []
    },
    {
      "cell_type": "markdown",
      "source": [
        "## Let's try critiquing"
      ],
      "metadata": {
        "id": "zVyK2JnuWYLa"
      }
    },
    {
      "cell_type": "code",
      "source": [
        "agent.generation_config.max_new_tokens = 100\n",
        "question = '''Ram's father has 4 sons, the eldest three are called Monday, Tuesday and Wednesday\n",
        "              What is the name of the youngest son?\n",
        "              '''\n",
        "answer = agent(question)[0]\n",
        "print(answer)\n",
        "context = f\"Please provide a criticism for the following answer\\nQuestion : {question} \\nAnswer :{answer}\\n\"\n",
        "critique = agent(context)[0]\n",
        "print(critique)\n",
        "new_context = f\"Please provide a better answer.\\nQuestion : {question}\\nAnswer : {answer}\\nCritique : {critique}\\nAnswer :\"\n",
        "new_answer = agent(new_context)[0]\n",
        "print(new_answer)"
      ],
      "metadata": {
        "colab": {
          "base_uri": "https://localhost:8080/"
        },
        "id": "uKiskNutWbdW",
        "outputId": "939188bd-ec44-4556-aa26-b87ec9fe8c73"
      },
      "execution_count": null,
      "outputs": [
        {
          "output_type": "stream",
          "name": "stdout",
          "text": [
            "<p>The youngest son is called Last Thursday.</p>\n",
            "\n",
            "Critique : The answer is correct, but it seems unnecessary to provide the complete names of the eldest three sons and the unnecessary choice of 'Last Thursday' for the youngest son.\n",
            " <p>The correct answer is <code>Last Thursday</code>.</p>\n"
          ]
        }
      ]
    },
    {
      "cell_type": "markdown",
      "source": [
        "# Chain-of-thought doesn't really work well for models this small\n",
        "\n",
        "![Screenshot_20230922_014612.png](data:image/png;base64,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)\n",
        "\n",
        "But can't hurt to try!"
      ],
      "metadata": {
        "id": "JycdDfikYaoZ"
      }
    },
    {
      "cell_type": "code",
      "source": [
        "cot_prompt = '''Ram's father has 4 sons, the eldest three are called Monday, Tuesday and Wednesday\n",
        "              What is the name of the youngest son?\n",
        "              Let's think step by step.\n",
        "              Ram's father has 4 sons.\n",
        "              One of them is Ram.\n",
        "              The eldest three are called Monday, Tuesday and Wednesday.\n",
        "              So the four sons are Ram, Monday, Tuesday, and Wednesday.\n",
        "              Answer is Ram.\n",
        "              Julie's father has a son named David. What is the name of David's sister?\n",
        "              '''\n",
        "answer = agent(cot_prompt)[0]\n",
        "print(answer)"
      ],
      "metadata": {
        "colab": {
          "base_uri": "https://localhost:8080/"
        },
        "id": "VeSmad0ZY6cb",
        "outputId": "8fb366f9-3af0-46b8-90c5-6e145b0d319d"
      },
      "execution_count": null,
      "outputs": [
        {
          "output_type": "stream",
          "name": "stdout",
          "text": [
            "\n",
            "   The number of sons that David has is:\n",
            " 1\n",
            "\n",
            "If Ram does not have a daughter, then the number of daughters that David has is:\n",
            "    4 - 1 = 3. So the number of nieces in David's family (excluding his wife) is:\n",
            "    1 + 4 = 5. \n",
            "\n",
            "So David's daughter is Julie.\n",
            "Answer is Julie\n"
          ]
        }
      ]
    },
    {
      "cell_type": "markdown",
      "source": [
        "## Consequently CoT-SC works even worse..."
      ],
      "metadata": {
        "id": "sZffq83RaD87"
      }
    },
    {
      "cell_type": "code",
      "source": [
        "agent.generation_config.max_new_tokens = 100\n",
        "agent.generation_config.num_return_sequences = 5\n",
        "\n",
        "answer = \"\\n____\\n\".join(agent(cot_prompt))\n",
        "print(answer)"
      ],
      "metadata": {
        "colab": {
          "base_uri": "https://localhost:8080/"
        },
        "id": "RFxYcNcNaJCu",
        "outputId": "4f1905bc-16f8-401b-f2f5-e12afdfc2e0b"
      },
      "execution_count": null,
      "outputs": [
        {
          "output_type": "stream",
          "name": "stdout",
          "text": [
            "\n",
            "Let's take another approach to solve this problem.\n",
            "              Each son of Ram's father has a unique name.\n",
            "              One son has Monday, one has Tuesday, Wednesday is shared among two sons, and Julie's father has one son with a unique name.\n",
            "              So, the eldest son of Ram's father and Julie's father has an unique name.              Answer is Julie\n",
            "              The name of the youngest son of Ram's father is also unique because it is Monday.\n",
            "\n",
            "$1. Julie's father has a son named David.\n",
            "              $0. Julie's mother has a daughter named Alice.\n",
            "       For an explanation on the fourth question see the instructions below.\n",
            "The son of Monday is named Monday, the son of Tuesday is named Tuesday and the son of Wednesday is named Wednesday, so the younger son's name is also Wednesday.\n",
            "\n",
            "\n",
            "Since Ram's father has 4 sons, the name of the eldest son is Monday. The name of the 4th son in the list is not provided. The name of Ram's father is not provided. Therefore, David is the younger son of the parent.\n",
            "\n",
            "-There are 4 possible daughters\n",
            "              -Each girl has the same probability of being the daughter (1/4)\n",
            "              -The daughter who is the only female child will most likely be the oldest\n",
            "              Answer is David's sister\n",
            "\n",
            "\n",
            "              Let's think step by step.\n",
            "              Julie's father has a son named David.\n",
            "              David is his son.\n",
            "              So David's sister is Julie.\n",
            "              Answer is Julie\n"
          ]
        }
      ]
    }
  ],
  "metadata": {
    "accelerator": "GPU",
    "colab": {
      "machine_shape": "hm",
      "provenance": [],
      "gpuType": "A100"
    },
    "kernelspec": {
      "display_name": "Python 3",
      "name": "python3"
    },
    "language_info": {
      "name": "python"
    },
    "widgets": {
      "application/vnd.jupyter.widget-state+json": {
        "23e01902276b4557a650efc55a1399fc": {
          "model_module": "@jupyter-widgets/controls",
          "model_name": "HBoxModel",
          "model_module_version": "1.5.0",
          "state": {
            "_dom_classes": [],
            "_model_module": "@jupyter-widgets/controls",
            "_model_module_version": "1.5.0",
            "_model_name": "HBoxModel",
            "_view_count": null,
            "_view_module": "@jupyter-widgets/controls",
            "_view_module_version": "1.5.0",
            "_view_name": "HBoxView",
            "box_style": "",
            "children": [
              "IPY_MODEL_37100242c2704de9a8d50a7871ff2395",
              "IPY_MODEL_2d97626084e64d65a81b4e244de84d13",
              "IPY_MODEL_69dd09b7eb6149a298c320c91ebedba5"
            ],
            "layout": "IPY_MODEL_92b3e4f742ee4df18d27f28aef52fe39"
          }
        },
        "37100242c2704de9a8d50a7871ff2395": {
          "model_module": "@jupyter-widgets/controls",
          "model_name": "HTMLModel",
          "model_module_version": "1.5.0",
          "state": {
            "_dom_classes": [],
            "_model_module": "@jupyter-widgets/controls",
            "_model_module_version": "1.5.0",
            "_model_name": "HTMLModel",
            "_view_count": null,
            "_view_module": "@jupyter-widgets/controls",
            "_view_module_version": "1.5.0",
            "_view_name": "HTMLView",
            "description": "",
            "description_tooltip": null,
            "layout": "IPY_MODEL_355ca8a0cc0a406ebfc909e614bc2e15",
            "placeholder": "​",
            "style": "IPY_MODEL_e592f0b807224c7ab1dd0f979166e544",
            "value": "Loading checkpoint shards: 100%"
          }
        },
        "2d97626084e64d65a81b4e244de84d13": {
          "model_module": "@jupyter-widgets/controls",
          "model_name": "FloatProgressModel",
          "model_module_version": "1.5.0",
          "state": {
            "_dom_classes": [],
            "_model_module": "@jupyter-widgets/controls",
            "_model_module_version": "1.5.0",
            "_model_name": "FloatProgressModel",
            "_view_count": null,
            "_view_module": "@jupyter-widgets/controls",
            "_view_module_version": "1.5.0",
            "_view_name": "ProgressView",
            "bar_style": "success",
            "description": "",
            "description_tooltip": null,
            "layout": "IPY_MODEL_d889634a03ad4e1d86b5bb65a652337c",
            "max": 2,
            "min": 0,
            "orientation": "horizontal",
            "style": "IPY_MODEL_3b28fb3156d9431faef093222708a506",
            "value": 2
          }
        },
        "69dd09b7eb6149a298c320c91ebedba5": {
          "model_module": "@jupyter-widgets/controls",
          "model_name": "HTMLModel",
          "model_module_version": "1.5.0",
          "state": {
            "_dom_classes": [],
            "_model_module": "@jupyter-widgets/controls",
            "_model_module_version": "1.5.0",
            "_model_name": "HTMLModel",
            "_view_count": null,
            "_view_module": "@jupyter-widgets/controls",
            "_view_module_version": "1.5.0",
            "_view_name": "HTMLView",
            "description": "",
            "description_tooltip": null,
            "layout": "IPY_MODEL_84c14c99c8234687a554da212edfbad5",
            "placeholder": "​",
            "style": "IPY_MODEL_90797707b4654d03a0113b2799371a70",
            "value": " 2/2 [00:09&lt;00:00,  4.39s/it]"
          }
        },
        "92b3e4f742ee4df18d27f28aef52fe39": {
          "model_module": "@jupyter-widgets/base",
          "model_name": "LayoutModel",
          "model_module_version": "1.2.0",
          "state": {
            "_model_module": "@jupyter-widgets/base",
            "_model_module_version": "1.2.0",
            "_model_name": "LayoutModel",
            "_view_count": null,
            "_view_module": "@jupyter-widgets/base",
            "_view_module_version": "1.2.0",
            "_view_name": "LayoutView",
            "align_content": null,
            "align_items": null,
            "align_self": null,
            "border": null,
            "bottom": null,
            "display": null,
            "flex": null,
            "flex_flow": null,
            "grid_area": null,
            "grid_auto_columns": null,
            "grid_auto_flow": null,
            "grid_auto_rows": null,
            "grid_column": null,
            "grid_gap": null,
            "grid_row": null,
            "grid_template_areas": null,
            "grid_template_columns": null,
            "grid_template_rows": null,
            "height": null,
            "justify_content": null,
            "justify_items": null,
            "left": null,
            "margin": null,
            "max_height": null,
            "max_width": null,
            "min_height": null,
            "min_width": null,
            "object_fit": null,
            "object_position": null,
            "order": null,
            "overflow": null,
            "overflow_x": null,
            "overflow_y": null,
            "padding": null,
            "right": null,
            "top": null,
            "visibility": null,
            "width": null
          }
        },
        "355ca8a0cc0a406ebfc909e614bc2e15": {
          "model_module": "@jupyter-widgets/base",
          "model_name": "LayoutModel",
          "model_module_version": "1.2.0",
          "state": {
            "_model_module": "@jupyter-widgets/base",
            "_model_module_version": "1.2.0",
            "_model_name": "LayoutModel",
            "_view_count": null,
            "_view_module": "@jupyter-widgets/base",
            "_view_module_version": "1.2.0",
            "_view_name": "LayoutView",
            "align_content": null,
            "align_items": null,
            "align_self": null,
            "border": null,
            "bottom": null,
            "display": null,
            "flex": null,
            "flex_flow": null,
            "grid_area": null,
            "grid_auto_columns": null,
            "grid_auto_flow": null,
            "grid_auto_rows": null,
            "grid_column": null,
            "grid_gap": null,
            "grid_row": null,
            "grid_template_areas": null,
            "grid_template_columns": null,
            "grid_template_rows": null,
            "height": null,
            "justify_content": null,
            "justify_items": null,
            "left": null,
            "margin": null,
            "max_height": null,
            "max_width": null,
            "min_height": null,
            "min_width": null,
            "object_fit": null,
            "object_position": null,
            "order": null,
            "overflow": null,
            "overflow_x": null,
            "overflow_y": null,
            "padding": null,
            "right": null,
            "top": null,
            "visibility": null,
            "width": null
          }
        },
        "e592f0b807224c7ab1dd0f979166e544": {
          "model_module": "@jupyter-widgets/controls",
          "model_name": "DescriptionStyleModel",
          "model_module_version": "1.5.0",
          "state": {
            "_model_module": "@jupyter-widgets/controls",
            "_model_module_version": "1.5.0",
            "_model_name": "DescriptionStyleModel",
            "_view_count": null,
            "_view_module": "@jupyter-widgets/base",
            "_view_module_version": "1.2.0",
            "_view_name": "StyleView",
            "description_width": ""
          }
        },
        "d889634a03ad4e1d86b5bb65a652337c": {
          "model_module": "@jupyter-widgets/base",
          "model_name": "LayoutModel",
          "model_module_version": "1.2.0",
          "state": {
            "_model_module": "@jupyter-widgets/base",
            "_model_module_version": "1.2.0",
            "_model_name": "LayoutModel",
            "_view_count": null,
            "_view_module": "@jupyter-widgets/base",
            "_view_module_version": "1.2.0",
            "_view_name": "LayoutView",
            "align_content": null,
            "align_items": null,
            "align_self": null,
            "border": null,
            "bottom": null,
            "display": null,
            "flex": null,
            "flex_flow": null,
            "grid_area": null,
            "grid_auto_columns": null,
            "grid_auto_flow": null,
            "grid_auto_rows": null,
            "grid_column": null,
            "grid_gap": null,
            "grid_row": null,
            "grid_template_areas": null,
            "grid_template_columns": null,
            "grid_template_rows": null,
            "height": null,
            "justify_content": null,
            "justify_items": null,
            "left": null,
            "margin": null,
            "max_height": null,
            "max_width": null,
            "min_height": null,
            "min_width": null,
            "object_fit": null,
            "object_position": null,
            "order": null,
            "overflow": null,
            "overflow_x": null,
            "overflow_y": null,
            "padding": null,
            "right": null,
            "top": null,
            "visibility": null,
            "width": null
          }
        },
        "3b28fb3156d9431faef093222708a506": {
          "model_module": "@jupyter-widgets/controls",
          "model_name": "ProgressStyleModel",
          "model_module_version": "1.5.0",
          "state": {
            "_model_module": "@jupyter-widgets/controls",
            "_model_module_version": "1.5.0",
            "_model_name": "ProgressStyleModel",
            "_view_count": null,
            "_view_module": "@jupyter-widgets/base",
            "_view_module_version": "1.2.0",
            "_view_name": "StyleView",
            "bar_color": null,
            "description_width": ""
          }
        },
        "84c14c99c8234687a554da212edfbad5": {
          "model_module": "@jupyter-widgets/base",
          "model_name": "LayoutModel",
          "model_module_version": "1.2.0",
          "state": {
            "_model_module": "@jupyter-widgets/base",
            "_model_module_version": "1.2.0",
            "_model_name": "LayoutModel",
            "_view_count": null,
            "_view_module": "@jupyter-widgets/base",
            "_view_module_version": "1.2.0",
            "_view_name": "LayoutView",
            "align_content": null,
            "align_items": null,
            "align_self": null,
            "border": null,
            "bottom": null,
            "display": null,
            "flex": null,
            "flex_flow": null,
            "grid_area": null,
            "grid_auto_columns": null,
            "grid_auto_flow": null,
            "grid_auto_rows": null,
            "grid_column": null,
            "grid_gap": null,
            "grid_row": null,
            "grid_template_areas": null,
            "grid_template_columns": null,
            "grid_template_rows": null,
            "height": null,
            "justify_content": null,
            "justify_items": null,
            "left": null,
            "margin": null,
            "max_height": null,
            "max_width": null,
            "min_height": null,
            "min_width": null,
            "object_fit": null,
            "object_position": null,
            "order": null,
            "overflow": null,
            "overflow_x": null,
            "overflow_y": null,
            "padding": null,
            "right": null,
            "top": null,
            "visibility": null,
            "width": null
          }
        },
        "90797707b4654d03a0113b2799371a70": {
          "model_module": "@jupyter-widgets/controls",
          "model_name": "DescriptionStyleModel",
          "model_module_version": "1.5.0",
          "state": {
            "_model_module": "@jupyter-widgets/controls",
            "_model_module_version": "1.5.0",
            "_model_name": "DescriptionStyleModel",
            "_view_count": null,
            "_view_module": "@jupyter-widgets/base",
            "_view_module_version": "1.2.0",
            "_view_name": "StyleView",
            "description_width": ""
          }
        }
      }
    }
  },
  "nbformat": 4,
  "nbformat_minor": 0
}